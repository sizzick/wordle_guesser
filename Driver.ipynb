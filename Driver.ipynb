{
 "cells": [
  {
   "cell_type": "code",
   "execution_count": 1,
   "id": "living-obligation",
   "metadata": {},
   "outputs": [],
   "source": [
    "from collections import Counter\n",
    "\n",
    "import re\n",
    "import string\n",
    "import twl"
   ]
  },
  {
   "cell_type": "code",
   "execution_count": 2,
   "id": "legislative-powell",
   "metadata": {},
   "outputs": [],
   "source": [
    "EXCLUDED_LETTERS = list('aldros')\n",
    "EXACT_LETTERS = list('___e_')\n",
    "WRONG_SPOT_LETTERS = {0: list('t'), 1: list('i'), 2: list(''), 3: list(''), 4: list('e')}"
   ]
  },
  {
   "cell_type": "code",
   "execution_count": 3,
   "id": "metallic-guitar",
   "metadata": {},
   "outputs": [
    {
     "data": {
      "text/plain": [
       "8938"
      ]
     },
     "execution_count": 3,
     "metadata": {},
     "output_type": "execute_result"
    }
   ],
   "source": [
    "words = list(twl.iterator())\n",
    "words = [w for w in words if len(w) == 5]\n",
    "len(words)"
   ]
  },
  {
   "cell_type": "code",
   "execution_count": 4,
   "id": "usual-singing",
   "metadata": {},
   "outputs": [],
   "source": [
    "alphabet_list = [list(string.ascii_lowercase)] * 5\n",
    "alphabet_list_cleaned = []\n",
    "for i, alphabet in enumerate(alphabet_list):\n",
    "    if EXACT_LETTERS[i] != \"_\":\n",
    "        alphabet_list_cleaned.append([EXACT_LETTERS[i]])\n",
    "    else:\n",
    "        alphabet = [a for a in alphabet if a not in EXCLUDED_LETTERS]\n",
    "        alphabet = [letter for letter in alphabet if letter not in WRONG_SPOT_LETTERS[i]]\n",
    "        alphabet_list_cleaned.append(alphabet)\n",
    "\n",
    "words_sub = []\n",
    "for word in words:\n",
    "    # check to make sure each letter in the word is valid according to the alphabet_list_cleaned\n",
    "    if (word[0] in alphabet_list_cleaned[0]) and (word[1] in alphabet_list_cleaned[1]) and (word[2] in alphabet_list_cleaned[2]) and (word[3] in alphabet_list_cleaned[3]) and (word[4] in alphabet_list_cleaned[4]):\n",
    "        # check to make sure the word contains the wrong_spot_letters somewhere\n",
    "        wrong_spot_letters_flatlist = [l for letter in WRONG_SPOT_LETTERS.values() for l in letter]\n",
    "        if len(set(word).intersection(set(wrong_spot_letters_flatlist))) == len(set(wrong_spot_letters_flatlist)):\n",
    "            words_sub.append(word)   "
   ]
  },
  {
   "cell_type": "code",
   "execution_count": 5,
   "id": "failing-anatomy",
   "metadata": {},
   "outputs": [
    {
     "data": {
      "text/plain": [
       "['quiet']"
      ]
     },
     "execution_count": 5,
     "metadata": {},
     "output_type": "execute_result"
    }
   ],
   "source": [
    "# determining the best word to guess\n",
    "letter_weights = dict(Counter(''.join(words_sub)))\n",
    "total_letters = sum(letter_weights.values())\n",
    "lowest_letter = min(letter_weights, key=letter_weights.get)\n",
    "lowest_proportion = letter_weights[lowest_letter] / total_letters\n",
    "for k, v in letter_weights.items():\n",
    "    letter_weights[k] = (v / total_letters) / (lowest_proportion)\n",
    "\n",
    "guessing_dict = {}\n",
    "for w in words_sub:\n",
    "    word_weight = 0\n",
    "    for letter in w:\n",
    "        word_weight = word_weight + letter_weights[letter]\n",
    "    \n",
    "    # double letters are considered only in emergencies\n",
    "    if len(set(w)) != len(w):\n",
    "        word_weight = word_weight / 1.5\n",
    "        \n",
    "    guessing_dict[w] = word_weight\n",
    "    \n",
    "highest_score = 0\n",
    "words_sub_best = []\n",
    "for k, v in guessing_dict.items():\n",
    "    if v > highest_score:\n",
    "        highest_score = v\n",
    "        words_sub_best = [k]\n",
    "    elif v == highest_score:\n",
    "        words_sub_best.append(k)\n",
    "        \n",
    "words_sub_best"
   ]
  },
  {
   "cell_type": "code",
   "execution_count": 6,
   "id": "reduced-apache",
   "metadata": {},
   "outputs": [
    {
     "data": {
      "text/plain": [
       "['quiet']"
      ]
     },
     "execution_count": 6,
     "metadata": {},
     "output_type": "execute_result"
    }
   ],
   "source": [
    "words_sub"
   ]
  },
  {
   "cell_type": "code",
   "execution_count": 7,
   "id": "psychological-shelter",
   "metadata": {},
   "outputs": [
    {
     "data": {
      "text/plain": [
       "{'q': 1.0, 'u': 1.0, 'i': 1.0, 'e': 1.0, 't': 1.0}"
      ]
     },
     "execution_count": 7,
     "metadata": {},
     "output_type": "execute_result"
    }
   ],
   "source": [
    "letter_weights"
   ]
  }
 ],
 "metadata": {
  "kernelspec": {
   "display_name": "Python 3",
   "language": "python",
   "name": "python3"
  },
  "language_info": {
   "codemirror_mode": {
    "name": "ipython",
    "version": 3
   },
   "file_extension": ".py",
   "mimetype": "text/x-python",
   "name": "python",
   "nbconvert_exporter": "python",
   "pygments_lexer": "ipython3",
   "version": "3.9.2"
  }
 },
 "nbformat": 4,
 "nbformat_minor": 5
}
